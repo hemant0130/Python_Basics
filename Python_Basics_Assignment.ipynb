{
 "cells": [
  {
   "cell_type": "markdown",
   "id": "aee74768-2150-45ec-813d-5963510dcbea",
   "metadata": {},
   "source": [
    "# Python Basics Questions "
   ]
  },
  {
   "cell_type": "markdown",
   "id": "c07a2c3d-64f8-4901-af52-b1f72166985d",
   "metadata": {},
   "source": [
    "1.What is Python, and why is it popular?\n",
    "\n",
    "\n",
    "Ans->  python is a high level,interpreted programming language known for its simplicity and redability. python follows object oriented, procedural and            functional programming which makes it versatile.\n",
    "       In every area python is used but mainly used in machine learning, data science, artificial language which makes it most popular because it have lot        of libraries like numpy for performing calculations , pandas for data maipulation, matplotlib and seaborn for data visualization\n",
    "\n",
    "  "
   ]
  },
  {
   "cell_type": "markdown",
   "id": "11fdbf13-c6e9-42b5-b47c-2610ae50b272",
   "metadata": {},
   "source": [
    "2.What is an interpreter in Python\n",
    "\n",
    "\n",
    "Ans-> Interpreter reads and execute each line of code sequentially. Python code does not need to be compiled before running and making development faster        because of python inerpreter.\n",
    "      \n",
    "  "
   ]
  },
  {
   "cell_type": "markdown",
   "id": "fa361454-249c-4db4-b66b-19a26cd1b9e7",
   "metadata": {},
   "source": [
    "3.What are pre-defined keywords in Python?\n",
    "\n",
    "Ans-> keywords are fixed words which having special meaning and used for specific purpose in python."
   ]
  },
  {
   "cell_type": "markdown",
   "id": "f95abae5-c67d-4b6f-b85c-be528e97feb2",
   "metadata": {},
   "source": [
    "4.Can keywords be used as variable names?\n",
    "\n",
    "Ans-> No keywords cannot be used as variable names because if keywords are used for variable names it cannot perform its own work. "
   ]
  },
  {
   "cell_type": "markdown",
   "id": "69ecff3d-f3da-4753-b0ef-f5fef0657d2d",
   "metadata": {},
   "source": [
    "5.What is mutability in Python?\n",
    "\n",
    "Ans-> state or value of object/data container can be changed after created."
   ]
  },
  {
   "cell_type": "markdown",
   "id": "36e7f3bb-7b53-42ab-a24b-f5cf15565596",
   "metadata": {},
   "source": [
    "6.Why are lists mutable, but tuples are immutable?\n",
    "\n",
    "Ans-> lists are mutable because it suupports item assignment and tuples are immutable because it not supports item assignment.\n",
    "      In lists individual element can be changed and lists allows modifications like adding or deleting elements , but once tuple is created the elements           cannot be changed, added and removed."
   ]
  },
  {
   "cell_type": "markdown",
   "id": "ec795b2f-d78b-4bd7-bd16-4806d7847a16",
   "metadata": {},
   "source": [
    "7.What is the difference between “==” and “is” operators in Python?\n",
    "\n",
    "Ans-> \"==\" is comparison operator that checks two values are equal or not while \"is\" is identity operator that compares the location of two variables         in memory."
   ]
  },
  {
   "cell_type": "markdown",
   "id": "97a8170f-1968-4124-80de-1695bb8be69d",
   "metadata": {},
   "source": [
    "8.What are logical operators in Python?\n",
    "\n",
    "Ans->  logical operators are used to compare more than one condition and retuns boolean value. There are three logical operators in python AND, OR, NOT.       \n",
    "       AND returns True when all conditions are True otherwise it returns False.         \n",
    "       OR returns True when atleast one condition is True Otherwise it retuns False.       \n",
    "       NOT reverses the result."
   ]
  },
  {
   "cell_type": "markdown",
   "id": "1c39b1d6-5381-4f82-b889-02f91f622f71",
   "metadata": {},
   "source": [
    "9.What is type casting in Python?\n",
    "\n",
    "Ans-> The process of conversion the data type of a value/object."
   ]
  },
  {
   "cell_type": "markdown",
   "id": "252a5259-9177-4cb4-9f19-bd5b657ba63b",
   "metadata": {},
   "source": [
    "10.What is the difference between implicit and explicit type casting?\n",
    "\n",
    "Ans->  In Implict type casting python automatically converts the data type but In Explict type casting we use some in-built functions for converting the data type like int(), float(), str() ."
   ]
  },
  {
   "cell_type": "markdown",
   "id": "249d115c-9675-4870-b3c0-c485ddbe94a0",
   "metadata": {},
   "source": [
    "11. What is the purpose of conditional statements in Python?\n",
    "\n",
    "Ans-> The main purpose of conditional statements to execute the code  based on some conditions. They allows program to make decisions and execute different block of codes based on condition is True or False."
   ]
  },
  {
   "cell_type": "markdown",
   "id": "19e890ee-d094-4fe4-a99b-db293bf1511f",
   "metadata": {},
   "source": [
    "12. How does the elif statement work?\n",
    "\n",
    "Ans-> Firstly if condition is checked if it is True then execute the corresponding block of code and rest are ignored. But if condition is False then move forward to elif condition and check  elif condition and if it is True then execute corresponding block of code and rest are skippked.     \n",
    "when none of the if or elif condition is True then execute else block if it is present."
   ]
  },
  {
   "cell_type": "markdown",
   "id": "8de2b39c-d61c-47d5-afcb-8464405a9924",
   "metadata": {},
   "source": [
    "13.What is the difference between for and while loops?\n",
    "\n",
    "Ans->In for loops condition(range or iterable) is set at the beginning or in while loop condition is check for every iteration.      \n",
    "     For loop iterates over a sequence(list ,tuple, string,range etc.) and  in while loop repeats execution as long as condition is True."
   ]
  },
  {
   "cell_type": "markdown",
   "id": "d1635983-847a-4f68-917b-24f9118a1f3f",
   "metadata": {},
   "source": [
    "14.Describe a scenario where a while loop is more suitable than a for loop.\n",
    "\n",
    "Ans-> I write a program that asks user to enter valid password. But if user enter a wrong password it shows a prompt until it enters a valid password.\n",
    "Here while loop is better than for loop because we don't know how many attempts user takes. "
   ]
  },
  {
   "cell_type": "code",
   "execution_count": 4,
   "id": "5997ffc8-b41e-4ad8-b9d0-dc776681049e",
   "metadata": {},
   "outputs": [
    {
     "name": "stdin",
     "output_type": "stream",
     "text": [
      "enter your password hemant123\n"
     ]
    },
    {
     "name": "stdout",
     "output_type": "stream",
     "text": [
      "login successfully\n"
     ]
    }
   ],
   "source": [
    "#ans-14\n",
    "correct_password = \"hemant123\"\n",
    "user_input = \"\"\n",
    "while user_input != correct_password:\n",
    "    user_input = input(\"enter your password\")\n",
    "    if user_input == correct_password:\n",
    "        print(\"login successfully\")\n",
    "    else:\n",
    "        print(\"try again\")\n",
    "    \n"
   ]
  },
  {
   "cell_type": "markdown",
   "id": "b000924e-4315-4533-b7b3-e858768924be",
   "metadata": {},
   "source": [
    "# Practical Questions"
   ]
  },
  {
   "cell_type": "code",
   "execution_count": 4,
   "id": "dceccbd5-ca4d-4533-aebd-06ef2fa2fd0f",
   "metadata": {},
   "outputs": [
    {
     "name": "stdout",
     "output_type": "stream",
     "text": [
      "Hello, world!\n"
     ]
    }
   ],
   "source": [
    "# Q-1 Write a Python program to print \"Hello, World!\"\n",
    "print(\"Hello, world!\")"
   ]
  },
  {
   "cell_type": "code",
   "execution_count": 11,
   "id": "44addf13-cdc9-464e-814e-0a7e6e35b89f",
   "metadata": {},
   "outputs": [],
   "source": [
    "# Q-2 Write a Python program that displays your name and age."
   ]
  },
  {
   "cell_type": "code",
   "execution_count": 12,
   "id": "051ee60c-f126-4e23-9bd5-c189121d8b5f",
   "metadata": {},
   "outputs": [
    {
     "name": "stdout",
     "output_type": "stream",
     "text": [
      "hemant\n",
      "25\n"
     ]
    }
   ],
   "source": [
    "name=\"hemant\"\n",
    "age=25\n",
    "print(name)\n",
    "print(age)"
   ]
  },
  {
   "cell_type": "code",
   "execution_count": 13,
   "id": "de7a483e-b1ae-4ad2-9159-e6b2423047cf",
   "metadata": {},
   "outputs": [],
   "source": [
    "# Q-3  Write code to print all the pre-defined keywords in Python using the keyword library."
   ]
  },
  {
   "cell_type": "code",
   "execution_count": 14,
   "id": "9c886acf-3c81-4011-910c-6c2701f89df8",
   "metadata": {},
   "outputs": [
    {
     "name": "stdout",
     "output_type": "stream",
     "text": [
      "\n",
      "Here is a list of the Python keywords.  Enter any keyword to get more help.\n",
      "\n",
      "False               class               from                or\n",
      "None                continue            global              pass\n",
      "True                def                 if                  raise\n",
      "and                 del                 import              return\n",
      "as                  elif                in                  try\n",
      "assert              else                is                  while\n",
      "async               except              lambda              with\n",
      "await               finally             nonlocal            yield\n",
      "break               for                 not                 \n",
      "\n"
     ]
    }
   ],
   "source": [
    "help(\"keywords\")"
   ]
  },
  {
   "cell_type": "code",
   "execution_count": 15,
   "id": "e7ead0f9-9d35-49cc-9c88-00a2742b14cf",
   "metadata": {},
   "outputs": [],
   "source": [
    "# Q-4 Write a program that checks if a given word is a Python keyword."
   ]
  },
  {
   "cell_type": "code",
   "execution_count": 27,
   "id": "d40bd842-c2ab-40b1-82c0-722a5b8fe122",
   "metadata": {},
   "outputs": [
    {
     "name": "stdin",
     "output_type": "stream",
     "text": [
      "Enter word return\n"
     ]
    },
    {
     "name": "stdout",
     "output_type": "stream",
     "text": [
      "Python keyword\n"
     ]
    }
   ],
   "source": [
    "import keyword\n",
    "word=str(input(\"Enter word\"))\n",
    "if keyword.iskeyword(word):\n",
    "    print(\"Python keyword\")\n",
    "else:\n",
    "    print(\"Not python keyword\")"
   ]
  },
  {
   "cell_type": "code",
   "execution_count": 44,
   "id": "939da5ad-8acf-470a-85b5-bf44d3cced48",
   "metadata": {},
   "outputs": [],
   "source": [
    "#Q-5 Create a list and tuple in Python, and demonstrate how attempting to change an element works differently for each."
   ]
  },
  {
   "cell_type": "code",
   "execution_count": 45,
   "id": "d87b44fc-b2f9-49c0-9304-93b26d4bf4c3",
   "metadata": {},
   "outputs": [
    {
     "data": {
      "text/plain": [
       "[10, 20, 68, 57, 48]"
      ]
     },
     "execution_count": 45,
     "metadata": {},
     "output_type": "execute_result"
    }
   ],
   "source": [
    "list=[10,20,68,57,48]\n",
    "list\n"
   ]
  },
  {
   "cell_type": "code",
   "execution_count": 52,
   "id": "2282c022-57e2-4151-9efb-77730b26e5ae",
   "metadata": {},
   "outputs": [],
   "source": [
    "list[0]=100                    #list supports item assignment"
   ]
  },
  {
   "cell_type": "code",
   "execution_count": 54,
   "id": "0cf5aca9-0bf0-47f7-b2bb-4c10fc9794c2",
   "metadata": {},
   "outputs": [
    {
     "data": {
      "text/plain": [
       "[100, 20, 68, 57, 48]"
      ]
     },
     "execution_count": 54,
     "metadata": {},
     "output_type": "execute_result"
    }
   ],
   "source": [
    "list"
   ]
  },
  {
   "cell_type": "code",
   "execution_count": 55,
   "id": "4b038b48-fb1b-46fa-9a0e-845216e10b97",
   "metadata": {},
   "outputs": [
    {
     "data": {
      "text/plain": [
       "(16, 89, 84, 90, 37)"
      ]
     },
     "execution_count": 55,
     "metadata": {},
     "output_type": "execute_result"
    }
   ],
   "source": [
    "tuple=(16,89,84,90,37)\n",
    "tuple"
   ]
  },
  {
   "cell_type": "code",
   "execution_count": 56,
   "id": "fa822ed6-7e34-4634-9222-ee16a7caf99e",
   "metadata": {},
   "outputs": [
    {
     "ename": "TypeError",
     "evalue": "'tuple' object does not support item assignment",
     "output_type": "error",
     "traceback": [
      "\u001b[1;31m---------------------------------------------------------------------------\u001b[0m",
      "\u001b[1;31mTypeError\u001b[0m                                 Traceback (most recent call last)",
      "Cell \u001b[1;32mIn[56], line 1\u001b[0m\n\u001b[1;32m----> 1\u001b[0m \u001b[38;5;28;43mtuple\u001b[39;49m\u001b[43m[\u001b[49m\u001b[38;5;241;43m0\u001b[39;49m\u001b[43m]\u001b[49m\u001b[38;5;241m=\u001b[39m\u001b[38;5;241m100\u001b[39m            \u001b[38;5;66;03m# it gives error because tuple not support item assignment\u001b[39;00m\n",
      "\u001b[1;31mTypeError\u001b[0m: 'tuple' object does not support item assignment"
     ]
    }
   ],
   "source": [
    "tuple[0]=100            # it gives error because tuple not support item assignment"
   ]
  },
  {
   "cell_type": "code",
   "execution_count": 57,
   "id": "d5c66ad1-9db9-4322-a95d-3086d9000bc2",
   "metadata": {},
   "outputs": [],
   "source": [
    "# Q-7 Write a program that performs basic arithmetic operations on two user-input numbers."
   ]
  },
  {
   "cell_type": "code",
   "execution_count": 74,
   "id": "d3dd8be4-cb1e-43b3-92d0-5a719ee6a1f6",
   "metadata": {},
   "outputs": [
    {
     "name": "stdin",
     "output_type": "stream",
     "text": [
      "enter first number 5\n",
      "enter second number 2\n"
     ]
    },
    {
     "name": "stdout",
     "output_type": "stream",
     "text": [
      "7\n",
      "3\n",
      "10\n",
      "2.5\n",
      "1\n",
      "25\n"
     ]
    }
   ],
   "source": [
    "x= int(input(\"enter first number\"))\n",
    "y= int(input(\"enter second number\"))\n",
    "print(x+y)\n",
    "print(x-y)\n",
    "print(x*y)\n",
    "print(x/y)\n",
    "print(x%y)\n",
    "print(x**y)"
   ]
  },
  {
   "cell_type": "code",
   "execution_count": 73,
   "id": "a7ac4a63-0480-4f4c-a3bf-5e22e00facf8",
   "metadata": {},
   "outputs": [],
   "source": [
    "#Q-8 Write a program to demonstrate the use of logical operators."
   ]
  },
  {
   "cell_type": "code",
   "execution_count": 4,
   "id": "377b7c72-7197-4c9e-83da-6420ba2f4639",
   "metadata": {},
   "outputs": [
    {
     "name": "stdout",
     "output_type": "stream",
     "text": [
      "True\n",
      "True\n",
      "True\n"
     ]
    }
   ],
   "source": [
    "phy_marks=84\n",
    "chem_marks=85\n",
    "math_marks=95\n",
    "print(phy_marks>80 and chem_marks>=85 and math_marks>90)\n",
    "print(phy_marks>80 or chem_marks>90 or math_marks>95)\n",
    "print(not phy_marks<80)"
   ]
  },
  {
   "cell_type": "code",
   "execution_count": 11,
   "id": "e0d241cc-e4cd-4bf8-9ab8-fa558bf5aa3b",
   "metadata": {},
   "outputs": [],
   "source": [
    "#Q-9 Write a Python program to convert user input from string to integer, float, and boolean types."
   ]
  },
  {
   "cell_type": "code",
   "execution_count": 73,
   "id": "dc7309db-c4ad-4473-9c47-ada8593f224a",
   "metadata": {},
   "outputs": [
    {
     "name": "stdin",
     "output_type": "stream",
     "text": [
      "Enter Value 45\n"
     ]
    },
    {
     "name": "stdout",
     "output_type": "stream",
     "text": [
      "45\n",
      "45.0\n",
      "True\n"
     ]
    }
   ],
   "source": [
    "user_input = input(\"Enter Value\")\n",
    "int_value = int(user_input)\n",
    "float_value = float(user_input)\n",
    "bool_value = bool(user_input)\n",
    "print(int_value)\n",
    "print(float_value)\n",
    "print(bool_value)"
   ]
  },
  {
   "cell_type": "code",
   "execution_count": 25,
   "id": "b6bf2917-4a39-4111-9da7-158a91dc12bd",
   "metadata": {},
   "outputs": [],
   "source": [
    "#Q-10  Write code to demonstrate type casting with list elements."
   ]
  },
  {
   "cell_type": "code",
   "execution_count": 32,
   "id": "262871fe-fd87-4a06-b48c-aea47e8b7f39",
   "metadata": {},
   "outputs": [
    {
     "name": "stdout",
     "output_type": "stream",
     "text": [
      "[10, 30, 78, 35, 85]\n",
      "[True, True, True, True, True]\n"
     ]
    }
   ],
   "source": [
    "list = [\"10\",\"30\",\"78\",\"35\",\"85\"]\n",
    "int_list = [int(x) for x in list]\n",
    "bool_list = [bool(x) for x in list]\n",
    "print(int_list)\n",
    "print(bool_list)"
   ]
  },
  {
   "cell_type": "code",
   "execution_count": 29,
   "id": "e65cd683-8be7-4ba8-a446-c3605d487d66",
   "metadata": {},
   "outputs": [],
   "source": [
    "#Q-11  Write a program that checks if a number is positive, negative, or zero."
   ]
  },
  {
   "cell_type": "code",
   "execution_count": 37,
   "id": "39f8f5f7-6f53-4e30-ab45-c869d91c1894",
   "metadata": {},
   "outputs": [
    {
     "name": "stdin",
     "output_type": "stream",
     "text": [
      "Enter a number -48\n"
     ]
    },
    {
     "name": "stdout",
     "output_type": "stream",
     "text": [
      "negative number\n"
     ]
    }
   ],
   "source": [
    "num = float(input(\"Enter a number\"))\n",
    "if num>0:\n",
    "    print(\"positive number\")\n",
    "elif num<0:\n",
    "    print(\"negative number\")\n",
    "else:\n",
    "    print(\"number is zero\")"
   ]
  },
  {
   "cell_type": "code",
   "execution_count": 38,
   "id": "9587153d-3ab3-4e58-b157-d2f497af7acd",
   "metadata": {},
   "outputs": [],
   "source": [
    "# Q-12 Write a for loop to print numbers from 1 to 10."
   ]
  },
  {
   "cell_type": "code",
   "execution_count": 48,
   "id": "f0781335-48f2-44f8-b629-1b7184bbaeab",
   "metadata": {},
   "outputs": [
    {
     "name": "stdout",
     "output_type": "stream",
     "text": [
      "1 2 3 4 5 6 7 8 9 10 "
     ]
    }
   ],
   "source": [
    "for i in range(1,11):\n",
    "    print(i,end=\" \")"
   ]
  },
  {
   "cell_type": "code",
   "execution_count": 49,
   "id": "e3418d67-919a-430a-9c5d-785110c4824e",
   "metadata": {},
   "outputs": [],
   "source": [
    "#Q-13 Write a Python program to find the sum of all even numbers between 1 and 50."
   ]
  },
  {
   "cell_type": "code",
   "execution_count": 59,
   "id": "d522d4fe-2f30-4b7e-8504-96a79df8cdc7",
   "metadata": {},
   "outputs": [
    {
     "name": "stdout",
     "output_type": "stream",
     "text": [
      "650\n"
     ]
    }
   ],
   "source": [
    "total=0\n",
    "for i in range(1,51):\n",
    "    if i%2==0:\n",
    "        total+=i\n",
    "print(total)"
   ]
  },
  {
   "cell_type": "code",
   "execution_count": 63,
   "id": "dee45841-2fb6-4494-85ff-496edbfe87d1",
   "metadata": {},
   "outputs": [],
   "source": [
    "#Q-15 Write a Python program to calculate the factorial of a number provided by the user using a while loop."
   ]
  },
  {
   "cell_type": "code",
   "execution_count": 71,
   "id": "b442d877-2d11-4367-81cf-79ad25ae9e2a",
   "metadata": {},
   "outputs": [
    {
     "name": "stdin",
     "output_type": "stream",
     "text": [
      "enter a number 6\n"
     ]
    },
    {
     "name": "stdout",
     "output_type": "stream",
     "text": [
      "720\n"
     ]
    }
   ],
   "source": [
    "num=int(input(\"enter a number\"))\n",
    "factorial=1\n",
    "if num<0:\n",
    "    print(\"factorial is not defined for negative numbers\")\n",
    "elif num==0:\n",
    "    print(\"factorial of 0 is 1\")\n",
    "else:\n",
    "    while num>0:\n",
    "        factorial=factorial*num\n",
    "        num=num-1\n",
    "    print(factorial)    "
   ]
  }
 ],
 "metadata": {
  "kernelspec": {
   "display_name": "Python 3 (ipykernel)",
   "language": "python",
   "name": "python3"
  },
  "language_info": {
   "codemirror_mode": {
    "name": "ipython",
    "version": 3
   },
   "file_extension": ".py",
   "mimetype": "text/x-python",
   "name": "python",
   "nbconvert_exporter": "python",
   "pygments_lexer": "ipython3",
   "version": "3.12.6"
  }
 },
 "nbformat": 4,
 "nbformat_minor": 5
}
